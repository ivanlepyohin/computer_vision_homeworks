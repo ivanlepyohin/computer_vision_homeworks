{
  "nbformat": 4,
  "nbformat_minor": 0,
  "metadata": {
    "colab": {
      "provenance": []
    },
    "kernelspec": {
      "name": "python3",
      "display_name": "Python 3"
    },
    "language_info": {
      "name": "python"
    }
  },
  "cells": [
    {
      "cell_type": "markdown",
      "source": [
        "**Импортируем все необходимые библиотеки**"
      ],
      "metadata": {
        "id": "iXgKwNNBMb0I"
      }
    },
    {
      "cell_type": "code",
      "source": [
        "import numpy as np\n",
        "import tensorflow as tf\n",
        "from tensorflow import keras\n",
        "import tqdm"
      ],
      "metadata": {
        "id": "BD-IlhayMfqm"
      },
      "execution_count": null,
      "outputs": []
    },
    {
      "cell_type": "markdown",
      "source": [
        "**Подгрузим датасет**"
      ],
      "metadata": {
        "id": "PLn-7svdMl-L"
      }
    },
    {
      "cell_type": "code",
      "source": [
        "def load_mnist_data():\n",
        "    (X_train, y_train), (X_test, y_test) = keras.datasets.mnist.load_data()\n",
        "    X_train = X_train.reshape(X_train.shape[0], -1).astype('float32') / 255\n",
        "    X_test = X_test.reshape(X_test.shape[0], -1).astype('float32') / 255\n",
        "\n",
        "    y_train_encoded = one_hot_encode(y_train)\n",
        "    y_test_encoded = one_hot_encode(y_test)\n",
        "\n",
        "    return X_train, y_train_encoded, X_test, y_test_encoded\n",
        "\n",
        "def one_hot_encode(labels, num_classes=10):\n",
        "    encoded = np.zeros((len(labels), num_classes))\n",
        "    for i, label in enumerate(labels):\n",
        "        encoded[i, label] = 1\n",
        "    return encoded"
      ],
      "metadata": {
        "id": "HOleCCz_Mqyd"
      },
      "execution_count": null,
      "outputs": []
    },
    {
      "cell_type": "markdown",
      "source": [
        "**Реализуем функции активации и их производные**"
      ],
      "metadata": {
        "id": "RPbxrCnLM2Gl"
      }
    },
    {
      "cell_type": "code",
      "source": [
        "def sigmoid(x):\n",
        "    return 1 / (1 + np.exp(-x))\n",
        "\n",
        "def sigmoid_derivative(x):\n",
        "    return sigmoid(x) * (1 - sigmoid(x))\n",
        "\n",
        "def relu(x):\n",
        "    return np.maximum(0, x)\n",
        "\n",
        "def relu_derivative(x):\n",
        "   return (x>0).astype(float)\n"
      ],
      "metadata": {
        "id": "WgtRBtJGM2Yg"
      },
      "execution_count": null,
      "outputs": []
    },
    {
      "cell_type": "markdown",
      "source": [
        "**Функция ошибки и ее производная**"
      ],
      "metadata": {
        "id": "T3N7EfrINCCc"
      }
    },
    {
      "cell_type": "code",
      "source": [
        "def cross_entropy_loss(y_true, y_pred):\n",
        "    epsilon = 1e-15\n",
        "    y_pred = np.clip(y_pred, epsilon, 1 - epsilon)\n",
        "    return -np.mean(y_true * np.log(y_pred) + (1 - y_true) * np.log(1 - y_pred))\n",
        "\n",
        "def cross_entropy_loss_derivative(y_true, y_pred):\n",
        "    epsilon = 1e-15\n",
        "    y_pred = np.clip(y_pred, epsilon, 1 - epsilon)\n",
        "    return (y_pred - y_true) / (y_pred * (1 - y_pred))"
      ],
      "metadata": {
        "id": "5CsPswzLNCXj"
      },
      "execution_count": null,
      "outputs": []
    },
    {
      "cell_type": "markdown",
      "source": [
        "**Инициализируем параметры**"
      ],
      "metadata": {
        "id": "MOzdC9m1OCk8"
      }
    },
    {
      "cell_type": "code",
      "source": [
        "def initialize_parameters(input_size, hidden_size1, hidden_size2, output_size):\n",
        "    W1 = np.random.randn(input_size, hidden_size1) * 0.01\n",
        "    b1 = np.zeros((1, hidden_size1))\n",
        "    W2 = np.random.randn(hidden_size1, hidden_size2) * 0.01\n",
        "    b2 = np.zeros((1, hidden_size2))\n",
        "    W3 = np.random.randn(hidden_size2, output_size) * 0.01\n",
        "    b3 = np.zeros((1, output_size))\n",
        "    return W1, b1, W2, b2, W3, b3"
      ],
      "metadata": {
        "id": "XMJpkbo5OC6r"
      },
      "execution_count": null,
      "outputs": []
    },
    {
      "cell_type": "markdown",
      "source": [
        "**Реализация прохода вперед**"
      ],
      "metadata": {
        "id": "g6k0m7JGOYwB"
      }
    },
    {
      "cell_type": "code",
      "source": [
        "def forward_propagation(X, W1, b1, W2, b2, W3, b3):\n",
        "    Z1 = np.dot(X, W1) + b1\n",
        "    A1 = relu(Z1)\n",
        "    Z2 = np.dot(A1, W2) + b2\n",
        "    A2 = relu(Z2)\n",
        "    Z3 = np.dot(A2, W3) + b3\n",
        "    A3 = sigmoid(Z3)\n",
        "    return Z1, A1, Z2, A2, Z3, A3"
      ],
      "metadata": {
        "id": "qNcvxz1IOZil"
      },
      "execution_count": null,
      "outputs": []
    },
    {
      "cell_type": "markdown",
      "source": [
        "**Реализация алгоритма обратного распространения ошибки**"
      ],
      "metadata": {
        "id": "eGwm8BpwOmH7"
      }
    },
    {
      "cell_type": "code",
      "source": [
        "def backward_propagation(X, y, Z1, A1, Z2, A2, Z3, A3, W1, W2, W3):\n",
        "    m = y.shape[0]\n",
        "    dZ3 = cross_entropy_loss_derivative(y, A3) * sigmoid_derivative(Z3)\n",
        "    dW3 = (1/m) * np.dot(A2.T, dZ3)\n",
        "    db3 = (1/m) * np.sum(dZ3, axis=0, keepdims=True)\n",
        "    dZ2 = np.dot(dZ3, W3.T) * relu_derivative(Z2)\n",
        "    dW2 = (1/m) * np.dot(A1.T, dZ2)\n",
        "    db2 = (1/m) * np.sum(dZ2, axis=0, keepdims=True)\n",
        "    dZ1 = np.dot(dZ2, W2.T) * relu_derivative(Z1)\n",
        "    dW1 = (1/m) * np.dot(X.T, dZ1)\n",
        "    db1 = (1/m) * np.sum(dZ1, axis=0, keepdims=True)\n",
        "\n",
        "    return dW1, db1, dW2, db2, dW3, db3"
      ],
      "metadata": {
        "id": "GX5kGIDlOm7X"
      },
      "execution_count": null,
      "outputs": []
    },
    {
      "cell_type": "markdown",
      "source": [
        "**Обновление параметров сети**"
      ],
      "metadata": {
        "id": "QjuI1PLzPPP0"
      }
    },
    {
      "cell_type": "code",
      "source": [
        "def update_parameters(W1, b1, W2, b2, W3, b3, dW1, db1, dW2, db2, dW3, db3, learning_rate):\n",
        "    W1 -= learning_rate * dW1\n",
        "    b1 -= learning_rate * db1\n",
        "    W2 -= learning_rate * dW2\n",
        "    b2 -= learning_rate * db2\n",
        "    W3 -= learning_rate * dW3\n",
        "    b3 -= learning_rate * db3\n",
        "\n",
        "    return W1, b1, W2, b2, W3, b3"
      ],
      "metadata": {
        "id": "AkMju-JPPPiv"
      },
      "execution_count": null,
      "outputs": []
    },
    {
      "cell_type": "markdown",
      "source": [
        "**Обучение сети**"
      ],
      "metadata": {
        "id": "frpGLC5RPhv4"
      }
    },
    {
      "cell_type": "code",
      "source": [
        "def train_network(X_train, y_train, hidden_size1, hidden_size2, learning_rate, epochs):\n",
        "    input_size = X_train.shape[1]\n",
        "    output_size = y_train.shape[1]\n",
        "\n",
        "    W1, b1, W2, b2, W3, b3 = initialize_parameters(input_size, hidden_size1, hidden_size2, output_size)\n",
        "\n",
        "    for epoch in tqdm.tqdm(range(epochs), desc=\"Training\"):\n",
        "       Z1, A1, Z2, A2, Z3, A3 = forward_propagation(X_train, W1, b1, W2, b2, W3, b3)\n",
        "       dW1, db1, dW2, db2, dW3, db3 = backward_propagation(X_train, y_train, Z1, A1, Z2, A2, Z3, A3, W1, W2, W3)\n",
        "       W1, b1, W2, b2, W3, b3 = update_parameters(W1, b1, W2, b2, W3, b3, dW1, db1, dW2, db2, dW3, db3, learning_rate)\n",
        "\n",
        "       loss = cross_entropy_loss(y_train, A3)\n",
        "       if epoch % 10 == 0:\n",
        "          print(f'Epoch: {epoch}, Loss: {loss}')\n",
        "    return W1, b1, W2, b2, W3, b3"
      ],
      "metadata": {
        "id": "6xmCTjZkPiKo"
      },
      "execution_count": null,
      "outputs": []
    },
    {
      "cell_type": "markdown",
      "source": [
        "**Тестирование сети**"
      ],
      "metadata": {
        "id": "5FmmNuCyQD7q"
      }
    },
    {
      "cell_type": "code",
      "source": [
        "def test_network(X_test, y_test, W1, b1, W2, b2, W3, b3):\n",
        "     _, _, _, _, _, A3_test = forward_propagation(X_test, W1, b1, W2, b2, W3, b3)\n",
        "     y_pred_test = np.argmax(A3_test, axis=1)\n",
        "     accuracy = np.mean(y_pred_test == y_test)\n",
        "     print(f\"Accuracy on test data: {accuracy * 100:.2f}%\")"
      ],
      "metadata": {
        "id": "7V371uk7QHlO"
      },
      "execution_count": null,
      "outputs": []
    },
    {
      "cell_type": "markdown",
      "source": [
        "**Пробуем запустить**"
      ],
      "metadata": {
        "id": "B3vhVNGUQYwH"
      }
    },
    {
      "cell_type": "code",
      "source": [
        "hidden_size1 = 256\n",
        "hidden_size2 = 128\n",
        "learning_rate = 0.1\n",
        "epochs = 100\n",
        "\n",
        "X_train, y_train, X_test, y_test = load_mnist_data()\n",
        "\n",
        "W1, b1, W2, b2, W3, b3 = train_network(X_train, y_train, hidden_size1, hidden_size2, learning_rate, epochs)\n",
        "\n",
        "test_network(X_test, y_test, W1, b1, W2, b2, W3, b3)"
      ],
      "metadata": {
        "colab": {
          "base_uri": "https://localhost:8080/"
        },
        "id": "k3Qz8TSHQZFf",
        "outputId": "16cc3d49-7080-4c73-dd7c-b2a29dbcf71a"
      },
      "execution_count": null,
      "outputs": [
        {
          "output_type": "stream",
          "name": "stderr",
          "text": [
            "Training:   1%|          | 1/100 [00:04<06:50,  4.15s/it]"
          ]
        },
        {
          "output_type": "stream",
          "name": "stdout",
          "text": [
            "Epoch: 0, Loss: 0.6930340312344964\n"
          ]
        },
        {
          "output_type": "stream",
          "name": "stderr",
          "text": [
            "Training:  11%|█         | 11/100 [00:34<04:47,  3.23s/it]"
          ]
        },
        {
          "output_type": "stream",
          "name": "stdout",
          "text": [
            "Epoch: 10, Loss: 0.5607586928295839\n"
          ]
        },
        {
          "output_type": "stream",
          "name": "stderr",
          "text": [
            "Training:  21%|██        | 21/100 [01:06<04:06,  3.12s/it]"
          ]
        },
        {
          "output_type": "stream",
          "name": "stdout",
          "text": [
            "Epoch: 20, Loss: 0.3440434765695895\n"
          ]
        },
        {
          "output_type": "stream",
          "name": "stderr",
          "text": [
            "Training:  31%|███       | 31/100 [01:35<03:22,  2.94s/it]"
          ]
        },
        {
          "output_type": "stream",
          "name": "stdout",
          "text": [
            "Epoch: 30, Loss: 0.33085363713364146\n"
          ]
        },
        {
          "output_type": "stream",
          "name": "stderr",
          "text": [
            "Training:  41%|████      | 41/100 [02:05<02:50,  2.88s/it]"
          ]
        },
        {
          "output_type": "stream",
          "name": "stdout",
          "text": [
            "Epoch: 40, Loss: 0.33033314529527824\n"
          ]
        },
        {
          "output_type": "stream",
          "name": "stderr",
          "text": [
            "Training:  51%|█████     | 51/100 [02:35<02:17,  2.81s/it]"
          ]
        },
        {
          "output_type": "stream",
          "name": "stdout",
          "text": [
            "Epoch: 50, Loss: 0.32989236864934784\n"
          ]
        },
        {
          "output_type": "stream",
          "name": "stderr",
          "text": [
            "Training:  61%|██████    | 61/100 [03:07<01:51,  2.85s/it]"
          ]
        },
        {
          "output_type": "stream",
          "name": "stdout",
          "text": [
            "Epoch: 60, Loss: 0.3295011715879777\n"
          ]
        },
        {
          "output_type": "stream",
          "name": "stderr",
          "text": [
            "Training:  71%|███████   | 71/100 [03:38<01:32,  3.19s/it]"
          ]
        },
        {
          "output_type": "stream",
          "name": "stdout",
          "text": [
            "Epoch: 70, Loss: 0.3291393242016581\n"
          ]
        },
        {
          "output_type": "stream",
          "name": "stderr",
          "text": [
            "Training:  81%|████████  | 81/100 [04:08<01:01,  3.22s/it]"
          ]
        },
        {
          "output_type": "stream",
          "name": "stdout",
          "text": [
            "Epoch: 80, Loss: 0.32879062047906993\n"
          ]
        },
        {
          "output_type": "stream",
          "name": "stderr",
          "text": [
            "Training:  91%|█████████ | 91/100 [04:38<00:27,  3.08s/it]"
          ]
        },
        {
          "output_type": "stream",
          "name": "stdout",
          "text": [
            "Epoch: 90, Loss: 0.32844051216567155\n"
          ]
        },
        {
          "output_type": "stream",
          "name": "stderr",
          "text": [
            "Training: 100%|██████████| 100/100 [05:05<00:00,  3.06s/it]"
          ]
        },
        {
          "output_type": "stream",
          "name": "stdout",
          "text": [
            "Accuracy on test data: 10.73%\n"
          ]
        },
        {
          "output_type": "stream",
          "name": "stderr",
          "text": [
            "\n"
          ]
        }
      ]
    }
  ]
}