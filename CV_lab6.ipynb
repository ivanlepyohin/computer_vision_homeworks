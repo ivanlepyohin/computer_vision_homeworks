{
  "nbformat": 4,
  "nbformat_minor": 0,
  "metadata": {
    "colab": {
      "provenance": [],
      "gpuType": "T4"
    },
    "kernelspec": {
      "name": "python3",
      "display_name": "Python 3"
    },
    "language_info": {
      "name": "python"
    },
    "accelerator": "GPU"
  },
  "cells": [
    {
      "cell_type": "markdown",
      "source": [
        "**Для начала обозначим количество нейронов в каждом слое, размер мини-батча, шаг обучения, количество эпох**"
      ],
      "metadata": {
        "id": "QeoyoHgfPCwQ"
      }
    },
    {
      "cell_type": "code",
      "source": [
        "N_NEURONS1 = 100\n",
        "N_NEURONS2 = 100\n",
        "N_CLASSES = 10\n",
        "\n",
        "BATCH_SIZE = 64\n",
        "LEARNING_RATE = 0.0001\n",
        "NUM_EPOCHS = 10\n",
        "\n",
        "DEVICE = \"cuda\""
      ],
      "metadata": {
        "id": "HnPWztsxPDgD"
      },
      "execution_count": 22,
      "outputs": []
    },
    {
      "cell_type": "code",
      "metadata": {
        "id": "_hVcPud3KX_3"
      },
      "source": [
        "import torch\n",
        "import torch.nn as nn\n",
        "import torch.nn.functional as F\n",
        "import torch.utils.data\n",
        "import numpy as np\n",
        "from matplotlib import pyplot as plt"
      ],
      "execution_count": 23,
      "outputs": []
    },
    {
      "cell_type": "markdown",
      "source": [
        "**Возьмем датасет MNIST**"
      ],
      "metadata": {
        "id": "FAcVyp3wPdv7"
      }
    },
    {
      "cell_type": "code",
      "metadata": {
        "id": "0m843e-NJ8UO"
      },
      "source": [
        "from sklearn.datasets import fetch_openml\n",
        "X, y = fetch_openml('mnist_784', version=1, return_X_y=True, as_frame=False)\n",
        "y = y.astype(int)"
      ],
      "execution_count": 24,
      "outputs": []
    },
    {
      "cell_type": "code",
      "metadata": {
        "id": "Uy1FB6VVJ--I",
        "colab": {
          "base_uri": "https://localhost:8080/"
        },
        "outputId": "a129829d-bc52-4044-f416-128c164c4821"
      },
      "source": [
        "X.shape, y.shape"
      ],
      "execution_count": 25,
      "outputs": [
        {
          "output_type": "execute_result",
          "data": {
            "text/plain": [
              "((70000, 784), (70000,))"
            ]
          },
          "metadata": {},
          "execution_count": 25
        }
      ]
    },
    {
      "cell_type": "code",
      "metadata": {
        "id": "GA_nyrTbL80g",
        "colab": {
          "base_uri": "https://localhost:8080/"
        },
        "outputId": "9de43a4b-276c-40ac-f945-e67aaed7f740"
      },
      "source": [
        "y"
      ],
      "execution_count": 26,
      "outputs": [
        {
          "output_type": "execute_result",
          "data": {
            "text/plain": [
              "array([5, 0, 4, ..., 4, 5, 6])"
            ]
          },
          "metadata": {},
          "execution_count": 26
        }
      ]
    },
    {
      "cell_type": "code",
      "metadata": {
        "id": "D_-6ScxtM-bk",
        "colab": {
          "base_uri": "https://localhost:8080/"
        },
        "outputId": "af01c2b2-fef3-44d7-fef3-a9747d1b7302"
      },
      "source": [
        "X[:3]"
      ],
      "execution_count": 27,
      "outputs": [
        {
          "output_type": "execute_result",
          "data": {
            "text/plain": [
              "array([[0, 0, 0, ..., 0, 0, 0],\n",
              "       [0, 0, 0, ..., 0, 0, 0],\n",
              "       [0, 0, 0, ..., 0, 0, 0]])"
            ]
          },
          "metadata": {},
          "execution_count": 27
        }
      ]
    },
    {
      "cell_type": "code",
      "metadata": {
        "id": "fB19Xa0CMVmq",
        "colab": {
          "base_uri": "https://localhost:8080/",
          "height": 254
        },
        "outputId": "24150322-1105-4a0c-b0b9-c2c95674a8dc"
      },
      "source": [
        "plt.figure(figsize=(7.5, 2.5))\n",
        "for i in range(3):\n",
        "    plt.subplot(1, 3, i+1)\n",
        "    plt.imshow(X[i].reshape(28, 28), cmap=\"Greys\")\n",
        "    plt.title(\"Класс: %d\"%y[i])"
      ],
      "execution_count": 28,
      "outputs": [
        {
          "output_type": "display_data",
          "data": {
            "text/plain": [
              "<Figure size 750x250 with 3 Axes>"
            ],
            "image/png": "[encoded data removed]"
          },
          "metadata": {}
        }
      ]
    },
    {
      "cell_type": "markdown",
      "source": [
        "**Разобьем на обучающую и тестовую выборку**"
      ],
      "metadata": {
        "id": "ANfRYGkxPl78"
      }
    },
    {
      "cell_type": "code",
      "metadata": {
        "id": "gIpBTrOAKwN1"
      },
      "source": [
        "X_train, X_test, y_train, y_test = X[:60000], X[60000:], y[:60000], y[60000:]"
      ],
      "execution_count": 29,
      "outputs": []
    },
    {
      "cell_type": "code",
      "metadata": {
        "id": "Ho7XxFGgKLKc"
      },
      "source": [
        "train_dset = torch.utils.data.TensorDataset(torch.from_numpy(X_train).float(),\n",
        "                                            torch.from_numpy(y_train).long())\n",
        "train_loader = torch.utils.data.DataLoader(train_dset,\n",
        "                                            batch_size=BATCH_SIZE)"
      ],
      "execution_count": 30,
      "outputs": []
    },
    {
      "cell_type": "code",
      "metadata": {
        "id": "vE9tcBy3KpCw"
      },
      "source": [
        "test_dset = torch.utils.data.TensorDataset(torch.from_numpy(X_train).float(),\n",
        "                                           torch.from_numpy(y_train).long())\n",
        "test_loader = torch.utils.data.DataLoader(test_dset,\n",
        "                                            batch_size=BATCH_SIZE)"
      ],
      "execution_count": 31,
      "outputs": []
    },
    {
      "cell_type": "markdown",
      "source": [
        "**Представим нейросеть в виде class**"
      ],
      "metadata": {
        "id": "ZJkGnOeUPxzS"
      }
    },
    {
      "cell_type": "code",
      "metadata": {
        "id": "YCGVcPNKOY1X"
      },
      "source": [
        "class FCN(nn.Module):\n",
        "    def __init__(self, N_NEURONS1, N_NEURONS2, N_CLASSES):\n",
        "        super(FCN, self).__init__()\n",
        "        self.fc1 = nn.Linear(X.shape[1], N_NEURONS1)\n",
        "        self.fc2 = nn.Linear(N_NEURONS1, N_NEURONS2)\n",
        "        self.fc3 = nn.Linear(N_NEURONS2, N_CLASSES)\n",
        "\n",
        "    def forward(self, x):\n",
        "        z1 = F.relu(self.fc1(x))\n",
        "        z2 = F.relu(self.fc2(z1))\n",
        "        z3 = self.fc3(z2)\n",
        "        return z3"
      ],
      "execution_count": 32,
      "outputs": []
    },
    {
      "cell_type": "code",
      "metadata": {
        "id": "XHBIs8v-PU4D",
        "colab": {
          "base_uri": "https://localhost:8080/"
        },
        "outputId": "f47b9831-d618-47fb-a29e-f63197efee44"
      },
      "source": [
        "net = FCN(N_NEURONS1, N_NEURONS2, N_CLASSES)\n",
        "mini_batch = torch.from_numpy(X[:3]).float()\n",
        "net(mini_batch)"
      ],
      "execution_count": 33,
      "outputs": [
        {
          "output_type": "execute_result",
          "data": {
            "text/plain": [
              "tensor([[  1.1585,  -0.4090,  11.1450,  -3.8625,   5.4581,  -9.6790,   5.9124,\n",
              "          -0.1085,   1.2634,  -2.0326],\n",
              "        [ -2.9234,  22.7193,   9.7122,   1.3867,  -1.5793, -12.4529,  11.3250,\n",
              "           5.1978,   4.9698,   0.4000],\n",
              "        [ -3.8918,   1.7322,   2.5821,   1.1348,   5.1695, -12.1370,  -2.0860,\n",
              "           2.4953,   5.9109,   4.7884]], grad_fn=<AddmmBackward0>)"
            ]
          },
          "metadata": {},
          "execution_count": 33
        }
      ]
    },
    {
      "cell_type": "code",
      "metadata": {
        "id": "IC24lMR0UgbV",
        "colab": {
          "base_uri": "https://localhost:8080/"
        },
        "outputId": "060ea028-31ff-4167-884b-d35780b138c7"
      },
      "source": [
        "net.to(DEVICE) # перенос модели на GPU"
      ],
      "execution_count": 34,
      "outputs": [
        {
          "output_type": "execute_result",
          "data": {
            "text/plain": [
              "FCN(\n",
              "  (fc1): Linear(in_features=784, out_features=100, bias=True)\n",
              "  (fc2): Linear(in_features=100, out_features=100, bias=True)\n",
              "  (fc3): Linear(in_features=100, out_features=10, bias=True)\n",
              ")"
            ]
          },
          "metadata": {},
          "execution_count": 34
        }
      ]
    },
    {
      "cell_type": "code",
      "metadata": {
        "id": "4f7mjCY8P9lt"
      },
      "source": [
        "list(net.parameters()) # список параметров модели"
      ],
      "execution_count": 17,
      "outputs": []
    },
    {
      "cell_type": "markdown",
      "source": [
        "**Выберем функцию потерь**"
      ],
      "metadata": {
        "id": "oDVjF_MWQSCp"
      }
    },
    {
      "cell_type": "code",
      "metadata": {
        "id": "j6Iy52AuQfM_"
      },
      "source": [
        "criterion = nn.CrossEntropyLoss() # операция softmax и кросс-энтропия вместе"
      ],
      "execution_count": 35,
      "outputs": []
    },
    {
      "cell_type": "markdown",
      "source": [
        "**Используем оптимизатор Adam**"
      ],
      "metadata": {
        "id": "MbztidJ-QXqR"
      }
    },
    {
      "cell_type": "code",
      "metadata": {
        "id": "iE8zh_CXRH6e"
      },
      "source": [
        "optimizer = torch.optim.Adam(net.parameters(), lr=LEARNING_RATE)"
      ],
      "execution_count": 36,
      "outputs": []
    },
    {
      "cell_type": "markdown",
      "metadata": {
        "id": "asLzS2ZPRtIF"
      },
      "source": [
        "**Обучение:**"
      ]
    },
    {
      "cell_type": "code",
      "metadata": {
        "id": "prsrFtD0Rpwr",
        "colab": {
          "base_uri": "https://localhost:8080/"
        },
        "outputId": "fd895de5-01c3-4bc7-8202-3711ef34dc85"
      },
      "source": [
        "total_step = len(train_loader)\n",
        "for epoch in range(NUM_EPOCHS): # цикл по эпохам обучения\n",
        "    for i, (images, labels) in enumerate(train_loader): # цикл по мини-батчам\n",
        "        # Перенос обоих тензоров на GPU\n",
        "        images = images.to(DEVICE)\n",
        "        labels = labels.to(DEVICE)\n",
        "\n",
        "        # Проход вперед\n",
        "        outputs = net(images)\n",
        "        loss = criterion(outputs, labels)\n",
        "\n",
        "        # Проход назад\n",
        "        optimizer.zero_grad()\n",
        "        loss.backward()\n",
        "\n",
        "        # Обновление параметров нейросети\n",
        "        optimizer.step()\n",
        "\n",
        "        if (i+1) % 200 == 0:\n",
        "            print ('Epoch [{}/{}], Step [{}/{}], Loss: {:.4f}'\n",
        "                   .format(epoch+1, NUM_EPOCHS, i+1, total_step, loss.item()))"
      ],
      "execution_count": 37,
      "outputs": [
        {
          "output_type": "stream",
          "name": "stdout",
          "text": [
            "Epoch [1/10], Step [200/938], Loss: 0.7240\n",
            "Epoch [1/10], Step [400/938], Loss: 0.5484\n",
            "Epoch [1/10], Step [600/938], Loss: 0.5213\n",
            "Epoch [1/10], Step [800/938], Loss: 0.2513\n",
            "Epoch [2/10], Step [200/938], Loss: 0.2588\n",
            "Epoch [2/10], Step [400/938], Loss: 0.3764\n",
            "Epoch [2/10], Step [600/938], Loss: 0.3190\n",
            "Epoch [2/10], Step [800/938], Loss: 0.0789\n",
            "Epoch [3/10], Step [200/938], Loss: 0.1319\n",
            "Epoch [3/10], Step [400/938], Loss: 0.2908\n",
            "Epoch [3/10], Step [600/938], Loss: 0.2002\n",
            "Epoch [3/10], Step [800/938], Loss: 0.0543\n",
            "Epoch [4/10], Step [200/938], Loss: 0.0740\n",
            "Epoch [4/10], Step [400/938], Loss: 0.2635\n",
            "Epoch [4/10], Step [600/938], Loss: 0.1383\n",
            "Epoch [4/10], Step [800/938], Loss: 0.0453\n",
            "Epoch [5/10], Step [200/938], Loss: 0.0348\n",
            "Epoch [5/10], Step [400/938], Loss: 0.2390\n",
            "Epoch [5/10], Step [600/938], Loss: 0.0870\n",
            "Epoch [5/10], Step [800/938], Loss: 0.0247\n",
            "Epoch [6/10], Step [200/938], Loss: 0.0228\n",
            "Epoch [6/10], Step [400/938], Loss: 0.2188\n",
            "Epoch [6/10], Step [600/938], Loss: 0.0728\n",
            "Epoch [6/10], Step [800/938], Loss: 0.0171\n",
            "Epoch [7/10], Step [200/938], Loss: 0.0214\n",
            "Epoch [7/10], Step [400/938], Loss: 0.1983\n",
            "Epoch [7/10], Step [600/938], Loss: 0.0538\n",
            "Epoch [7/10], Step [800/938], Loss: 0.0101\n",
            "Epoch [8/10], Step [200/938], Loss: 0.0189\n",
            "Epoch [8/10], Step [400/938], Loss: 0.1592\n",
            "Epoch [8/10], Step [600/938], Loss: 0.0263\n",
            "Epoch [8/10], Step [800/938], Loss: 0.0081\n",
            "Epoch [9/10], Step [200/938], Loss: 0.0148\n",
            "Epoch [9/10], Step [400/938], Loss: 0.1239\n",
            "Epoch [9/10], Step [600/938], Loss: 0.0315\n",
            "Epoch [9/10], Step [800/938], Loss: 0.0055\n",
            "Epoch [10/10], Step [200/938], Loss: 0.0071\n",
            "Epoch [10/10], Step [400/938], Loss: 0.0798\n",
            "Epoch [10/10], Step [600/938], Loss: 0.0260\n",
            "Epoch [10/10], Step [800/938], Loss: 0.0068\n"
          ]
        }
      ]
    },
    {
      "cell_type": "code",
      "metadata": {
        "id": "UosWCrBeTZEe",
        "colab": {
          "base_uri": "https://localhost:8080/"
        },
        "outputId": "184bb6c7-c622-486e-f170-baad611c73ce"
      },
      "source": [
        "net.eval()\n",
        "with torch.no_grad(): # отключение построения графа вычислений (не нужен на этапе тестирования)\n",
        "    correct = 0\n",
        "    total = 0\n",
        "    for images, labels in test_loader:\n",
        "        images = images.to(DEVICE)\n",
        "        labels = labels.to(DEVICE)\n",
        "        outputs = net(images)\n",
        "        _, predicted = torch.max(outputs, dim=1)\n",
        "        total += labels.shape[0]\n",
        "        correct += (predicted == labels).sum().item()\n",
        "\n",
        "    print('Test accuracy:', 100 * correct / total)"
      ],
      "execution_count": 38,
      "outputs": [
        {
          "output_type": "stream",
          "name": "stdout",
          "text": [
            "Test accuracy: 99.18166666666667\n"
          ]
        }
      ]
    },
    {
      "cell_type": "markdown",
      "source": [
        "**Теперь необходимо сохранить модель**"
      ],
      "metadata": {
        "id": "2rURpHkELT_m"
      }
    },
    {
      "cell_type": "code",
      "source": [
        "def save_full_model(model):\n",
        "    torch.save(model, filepath)\n",
        "\n",
        "model = net\n",
        "filepath = '/content/my_model.pth'\n",
        "save_full_model(model)"
      ],
      "metadata": {
        "id": "n_n-L1dTAzGE"
      },
      "execution_count": 57,
      "outputs": []
    },
    {
      "cell_type": "markdown",
      "source": [
        "**Откроем сохраненную модель и протестируем ее**"
      ],
      "metadata": {
        "id": "1OhQYQLhLY_e"
      }
    },
    {
      "cell_type": "code",
      "source": [
        "def load_full_model(filepath):\n",
        "    model = torch.load(filepath)  # Загружаем всю модель целиком\n",
        "    print(f\"Full model loaded from {filepath}\")\n",
        "    return model\n",
        "\n",
        "filepath = '/content/my_model.pth'\n",
        "model_fcn = load_full_model(filepath)"
      ],
      "metadata": {
        "colab": {
          "base_uri": "https://localhost:8080/"
        },
        "id": "8PTG1uDaFWwa",
        "outputId": "23d6b833-2b5f-4d8a-da5c-ba4bfca5078c"
      },
      "execution_count": 58,
      "outputs": [
        {
          "output_type": "stream",
          "name": "stdout",
          "text": [
            "Full model loaded from /content/my_model.pth\n"
          ]
        },
        {
          "output_type": "stream",
          "name": "stderr",
          "text": [
            "<ipython-input-58-a270d001e814>:2: FutureWarning: You are using `torch.load` with `weights_only=False` (the current default value), which uses the default pickle module implicitly. It is possible to construct malicious pickle data which will execute arbitrary code during unpickling (See https://github.com/pytorch/pytorch/blob/main/SECURITY.md#untrusted-models for more details). In a future release, the default value for `weights_only` will be flipped to `True`. This limits the functions that could be executed during unpickling. Arbitrary objects will no longer be allowed to be loaded via this mode unless they are explicitly allowlisted by the user via `torch.serialization.add_safe_globals`. We recommend you start setting `weights_only=True` for any use case where you don't have full control of the loaded file. Please open an issue on GitHub for any issues related to this experimental feature.\n",
            "  model = torch.load(filepath)  # Загружаем всю модель целиком\n"
          ]
        }
      ]
    },
    {
      "cell_type": "code",
      "source": [
        "print(model_fcn)"
      ],
      "metadata": {
        "colab": {
          "base_uri": "https://localhost:8080/"
        },
        "id": "qd2xRYNlGDoZ",
        "outputId": "844ad97f-9eda-4f7e-d369-0b38d1f41d84"
      },
      "execution_count": 59,
      "outputs": [
        {
          "output_type": "stream",
          "name": "stdout",
          "text": [
            "FCN(\n",
            "  (fc1): Linear(in_features=784, out_features=100, bias=True)\n",
            "  (fc2): Linear(in_features=100, out_features=100, bias=True)\n",
            "  (fc3): Linear(in_features=100, out_features=10, bias=True)\n",
            ")\n"
          ]
        }
      ]
    },
    {
      "cell_type": "code",
      "source": [
        "i = 50\n",
        "\n",
        "image_tensor = torch.from_numpy(X[i]).float()\n",
        "image_tensor = image_tensor.unsqueeze(0).to(DEVICE)\n",
        "\n",
        "plt.figure(figsize=(7.5, 2.5))\n",
        "plt.imshow(X[i].reshape(28, 28), cmap=\"Greys\")\n",
        "plt.title(\"Класс: %d\"%y[i])\n",
        "\n",
        "model_fcn.eval()  # Переводим модель в режим оценки\n",
        "with torch.no_grad():  # Отключаем вычисление градиентов\n",
        "    output = model_fcn(image_tensor)\n",
        "    _, predicted_class = torch.max(output.data, 1)  # Получаем индекс класса с наибольшей вероятностью\n",
        "    print(predicted_class.item())"
      ],
      "metadata": {
        "colab": {
          "base_uri": "https://localhost:8080/",
          "height": 292
        },
        "id": "G7n60l0FG3q3",
        "outputId": "6dd471e6-5cab-4ea6-f076-2e67a2a83005"
      },
      "execution_count": 63,
      "outputs": [
        {
          "output_type": "stream",
          "name": "stdout",
          "text": [
            "3\n"
          ]
        },
        {
          "output_type": "display_data",
          "data": {
            "text/plain": [
              "<Figure size 750x250 with 1 Axes>"
            ],
            "image/png": "[encoded data removed]"
          },
          "metadata": {}
        }
      ]
    },
    {
      "cell_type": "markdown",
      "source": [
        "**Урааааааа!!!!!! всё получилось**"
      ],
      "metadata": {
        "id": "VV6RYqolLmmh"
      }
    }
  ]
}